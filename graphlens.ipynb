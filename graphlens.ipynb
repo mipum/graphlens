{
 "cells": [
  {
   "cell_type": "code",
   "execution_count": 18,
   "metadata": {
    "collapsed": true
   },
   "outputs": [],
   "source": [
    "import pandas as pd\n",
    "from py2neo import authenticate, Graph \n",
    "from py2neo import Node, Relationship, NodeSelector"
   ]
  },
  {
   "cell_type": "code",
   "execution_count": 5,
   "metadata": {
    "collapsed": true
   },
   "outputs": [],
   "source": [
    "# Neo4j service authentication and connection\n",
    "authenticate(\"host_port\", \"user\", \"password\")\n",
    "graph = Graph('host_port/db/data/', bolt = False)"
   ]
  },
  {
   "cell_type": "code",
   "execution_count": 69,
   "metadata": {
    "collapsed": true
   },
   "outputs": [],
   "source": [
    "# Load Movielens dataset\n",
    "movies = pd.read_csv(\"movies.csv\")\n",
    "ratings = pd.read_csv(\"ratings.csv\")\n",
    "\n",
    "# Work with a small subset of Movielens dataset (to satisfy requirements of GrapheneDB free tier)\n",
    "num_movies = 50\n",
    "num_users = 100"
   ]
  },
  {
   "cell_type": "code",
   "execution_count": 70,
   "metadata": {
    "collapsed": true
   },
   "outputs": [],
   "source": [
    "# Create Genre nodes\n",
    "genres = [\"Action\", \"Adventure\", \"Animation\", \"Children's\", \"Comedy\", \"Crime\", \"Documentary\", \"Drama\", \"Fantasy\", \n",
    "          \"Film-Noir\", \"Horror\", \"Musical\", \"Mystery\", \"Romance\", \"Sci-Fi\", \"Thriller\", \"War\", \"Western\"]\n",
    "genre_nodes = {genre: Node('Genre', name=genre) for genre in genres}\n",
    "\n",
    "for g in genre_nodes.values():\n",
    "    graph.create(g)"
   ]
  },
  {
   "cell_type": "code",
   "execution_count": 71,
   "metadata": {
    "collapsed": true
   },
   "outputs": [],
   "source": [
    "# Create Movie nodes\n",
    "for _, row in movies.iterrows():\n",
    "    if row['movieId'] <= num_movies:\n",
    "        movie = Node(\"Movie\", title=row['title'])\n",
    "        graph.create( movie )\n",
    "        \n",
    "        # Create Movie->Genre relationships\n",
    "        for genre in row['genres'].split('|'):\n",
    "            if genre in genres:\n",
    "                graph.create( Relationship( movie, \"OF_GENRE\", genre_nodes[genre]))"
   ]
  },
  {
   "cell_type": "code",
   "execution_count": 72,
   "metadata": {},
   "outputs": [],
   "source": [
    "# Creeate User nodes\n",
    "for _, row in ratings.iterrows():\n",
    "    if row['userId'] <= num_users and row['movieId'] <= num_movies:\n",
    "        \n",
    "        # check if User node exists, and if not - create a new User node\n",
    "        selector = NodeSelector(graph)\n",
    "        users = list(selector.select(\"User\", id=row['userId']))\n",
    "        if len(users) == 0:\n",
    "            user = Node(\"User\", id=row['userId'])\n",
    "            graph.create( user )\n",
    "        else:\n",
    "            user = users[0]\n",
    "            \n",
    "        # retrieve Movie title from movies dataframe\n",
    "        title = movies[movies['movieId'] == row['movieId']]['title'].values[0]\n",
    "        # retrieve Movie node\n",
    "        movie = list(selector.select(\"Movie\", title=title))[0]\n",
    "        \n",
    "        # create User->Movie relationship\n",
    "        graph.create( Relationship( user, \"RATED\", movie, rating=row['rating']))"
   ]
  },
  {
   "cell_type": "code",
   "execution_count": 99,
   "metadata": {},
   "outputs": [],
   "source": [
    "# How much does a specific User likes a specific Genre?\n",
    "# Query to find out an average rating this specific User assigned to Movies having that Genre\n",
    "user_to_genre_query = \n",
    "\"\"\"\n",
    "MATCH (u:User)-[r:RATED]->(m:Movie)-[:OF_GENRE]->(g:Genre)\n",
    "WHERE u.id = {user_id} AND g.name = {genre}\n",
    "RETURN AVG(r.rating) AS avg_rating\n",
    "\"\"\""
   ]
  },
  {
   "cell_type": "code",
   "execution_count": 111,
   "metadata": {},
   "outputs": [
    {
     "data": {
      "text/plain": [
       "4.375"
      ]
     },
     "execution_count": 111,
     "metadata": {},
     "output_type": "execute_result"
    }
   ],
   "source": [
    "graph.run(user_to_genre_query, user_id=8, genre='Thriller').evaluate()"
   ]
  }
 ],
 "metadata": {
  "kernelspec": {
   "display_name": "Python 3",
   "language": "python",
   "name": "python3"
  },
  "language_info": {
   "codemirror_mode": {
    "name": "ipython",
    "version": 3
   },
   "file_extension": ".py",
   "mimetype": "text/x-python",
   "name": "python",
   "nbconvert_exporter": "python",
   "pygments_lexer": "ipython3",
   "version": "3.6.3"
  }
 },
 "nbformat": 4,
 "nbformat_minor": 2
}
